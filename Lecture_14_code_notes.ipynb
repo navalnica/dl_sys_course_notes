{
 "cells": [
  {
   "cell_type": "markdown",
   "metadata": {},
   "source": [
    "## Lecture 14 code-along notebook\n",
    "\n",
    "\n",
    "Results of comparing different convolution implementations:\n",
    "\n",
    "tensors shapes:\n",
    "```python\n",
    "X.shape = (10, 32, 32, 8)\n",
    "weight.shape = (3, 3, 8, 16)\n",
    "```\n",
    "  \n",
    "timings:\n",
    "\n",
    "|Convolution implementation|Time to run|\n",
    "|-|-|\n",
    "|Naive|10.9 s|\n",
    "|Multiple matrix multiplications|6.56 ms|\n",
    "|im2col|4.32 ms|\n",
    "|Pytorch, CPU|2.06 ms|"
   ]
  },
  {
   "cell_type": "code",
   "execution_count": null,
   "metadata": {},
   "outputs": [],
   "source": []
  },
  {
   "cell_type": "code",
   "execution_count": 1,
   "metadata": {},
   "outputs": [],
   "source": [
    "import numpy as np\n",
    "import ctypes\n",
    "\n",
    "import torch\n",
    "import torch.nn as nn"
   ]
  },
  {
   "cell_type": "code",
   "execution_count": null,
   "metadata": {},
   "outputs": [],
   "source": []
  },
  {
   "cell_type": "code",
   "execution_count": 2,
   "metadata": {},
   "outputs": [],
   "source": [
    "def get_np_underlying_memory(arr: np.ndarray):\n",
    "    return np.frombuffer(ctypes.string_at(arr.ctypes.data, arr.nbytes), dtype=arr.dtype, count=arr.size)"
   ]
  },
  {
   "cell_type": "code",
   "execution_count": null,
   "metadata": {},
   "outputs": [],
   "source": []
  },
  {
   "cell_type": "code",
   "execution_count": 3,
   "metadata": {},
   "outputs": [],
   "source": [
    "Z = np.random.rand(10, 32, 32, 8)\n",
    "weight = np.random.rand(3, 3, 8, 16)"
   ]
  },
  {
   "cell_type": "code",
   "execution_count": null,
   "metadata": {},
   "outputs": [],
   "source": []
  },
  {
   "cell_type": "markdown",
   "metadata": {},
   "source": [
    "## Reference implementation. Pytorch, CPU"
   ]
  },
  {
   "cell_type": "code",
   "execution_count": 4,
   "metadata": {},
   "outputs": [],
   "source": [
    "def conv_reference(Z, weight):\n",
    "    Z_torch = torch.tensor(Z).permute(0, 3, 1, 2)\n",
    "    w_torch = torch.tensor(weight).permute(3, 2, 0, 1)\n",
    "    out = nn.functional.conv2d(Z_torch, w_torch)\n",
    "    return out.permute(0, 2, 3, 1).contiguous().numpy()"
   ]
  },
  {
   "cell_type": "code",
   "execution_count": 5,
   "metadata": {},
   "outputs": [
    {
     "name": "stdout",
     "output_type": "stream",
     "text": [
      "(10, 30, 30, 16)\n"
     ]
    }
   ],
   "source": [
    "out_ref = conv_reference(Z, weight)\n",
    "print(out_ref.shape)"
   ]
  },
  {
   "cell_type": "code",
   "execution_count": 6,
   "metadata": {},
   "outputs": [
    {
     "name": "stdout",
     "output_type": "stream",
     "text": [
      "2.06 ms ± 128 µs per loop (mean ± std. dev. of 7 runs, 100 loops each)\n"
     ]
    }
   ],
   "source": [
    "%%timeit\n",
    "conv_reference(Z, weight)"
   ]
  },
  {
   "cell_type": "code",
   "execution_count": null,
   "metadata": {},
   "outputs": [],
   "source": []
  },
  {
   "cell_type": "markdown",
   "metadata": {},
   "source": [
    "## Naive implementation"
   ]
  },
  {
   "cell_type": "code",
   "execution_count": 7,
   "metadata": {},
   "outputs": [],
   "source": [
    "def conv_naive(Z, weight):\n",
    "    N, H, W, C_in = Z.shape\n",
    "    K, _, _, C_out = weight.shape\n",
    "    assert K % 2 == 1\n",
    "\n",
    "    out = np.zeros(shape=(N, H - K + 1, W - K + 1, C_out))\n",
    "\n",
    "    # batch\n",
    "    for ib in range(N):\n",
    "        # image\n",
    "        for i in range(H - K + 1):\n",
    "            for j in range(W - K + 1):\n",
    "                # channels\n",
    "                for icin in range(C_in):\n",
    "                    for icout in range(C_out):\n",
    "                        # kernel\n",
    "                        for ik in range(0, K):\n",
    "                            for jk in range(0, K):\n",
    "                                out[ib, i, j, icout] += Z[ib, i + ik, j + jk, icin] * weight[ik, jk, icin, icout]\n",
    "    \n",
    "    return out"
   ]
  },
  {
   "cell_type": "code",
   "execution_count": 8,
   "metadata": {},
   "outputs": [
    {
     "name": "stdout",
     "output_type": "stream",
     "text": [
      "(10, 30, 30, 16)\n"
     ]
    }
   ],
   "source": [
    "out_naive = conv_naive(Z, weight)\n",
    "print(out_naive.shape)"
   ]
  },
  {
   "cell_type": "code",
   "execution_count": 9,
   "metadata": {},
   "outputs": [
    {
     "data": {
      "text/plain": [
       "2.026778783270082e-12"
      ]
     },
     "execution_count": 9,
     "metadata": {},
     "output_type": "execute_result"
    }
   ],
   "source": [
    "np.linalg.norm(out_ref - out_naive)"
   ]
  },
  {
   "cell_type": "code",
   "execution_count": 10,
   "metadata": {},
   "outputs": [
    {
     "name": "stdout",
     "output_type": "stream",
     "text": [
      "CPU times: total: 11.2 s\n",
      "Wall time: 10.9 s\n"
     ]
    }
   ],
   "source": [
    "%%time \n",
    "_ = conv_naive(Z, weight)"
   ]
  },
  {
   "cell_type": "code",
   "execution_count": null,
   "metadata": {},
   "outputs": [],
   "source": []
  },
  {
   "cell_type": "markdown",
   "metadata": {},
   "source": [
    "## Convolution as a number of matrix multiplications"
   ]
  },
  {
   "cell_type": "code",
   "execution_count": 11,
   "metadata": {},
   "outputs": [],
   "source": [
    "def conv_matrix_mult(Z, weight):\n",
    "    N, H, W, C_in = Z.shape\n",
    "    K, _, _, C_out = weight.shape\n",
    "    assert K % 2 == 1\n",
    "\n",
    "    out = np.zeros(shape=(N, H - K + 1, W - K + 1, C_out))\n",
    "\n",
    "    for i in range(K):\n",
    "        for j in range(K):\n",
    "            out += Z[:, i:i + H - K + 1, j:j + W - K + 1, :] @ weight[i, j, :, :]\n",
    "\n",
    "    return out"
   ]
  },
  {
   "cell_type": "code",
   "execution_count": 12,
   "metadata": {},
   "outputs": [
    {
     "name": "stdout",
     "output_type": "stream",
     "text": [
      "(10, 30, 30, 16)\n"
     ]
    }
   ],
   "source": [
    "out_mm = conv_matrix_mult(Z, weight)\n",
    "print(out_mm.shape)"
   ]
  },
  {
   "cell_type": "code",
   "execution_count": 13,
   "metadata": {},
   "outputs": [
    {
     "data": {
      "text/plain": [
       "1.7667661555878716e-12"
      ]
     },
     "execution_count": 13,
     "metadata": {},
     "output_type": "execute_result"
    }
   ],
   "source": [
    "np.linalg.norm(out_ref - out_mm)"
   ]
  },
  {
   "cell_type": "code",
   "execution_count": 14,
   "metadata": {},
   "outputs": [
    {
     "name": "stdout",
     "output_type": "stream",
     "text": [
      "6.56 ms ± 675 µs per loop (mean ± std. dev. of 7 runs, 100 loops each)\n"
     ]
    }
   ],
   "source": [
    "%%timeit \n",
    "x = conv_matrix_mult(Z, weight)"
   ]
  },
  {
   "cell_type": "code",
   "execution_count": null,
   "metadata": {},
   "outputs": [],
   "source": []
  },
  {
   "cell_type": "markdown",
   "metadata": {},
   "source": [
    "## im2col exploration\n",
    "* step-by-step into im2col"
   ]
  },
  {
   "cell_type": "code",
   "execution_count": 15,
   "metadata": {},
   "outputs": [
    {
     "name": "stdout",
     "output_type": "stream",
     "text": [
      "(5, 5) [5. 1.] 25\n",
      "[[ 0  1  2  3  4]\n",
      " [ 5  6  7  8  9]\n",
      " [10 11 12 13 14]\n",
      " [15 16 17 18 19]\n",
      " [20 21 22 23 24]]\n"
     ]
    }
   ],
   "source": [
    "m, n, k = 5, 5, 3\n",
    "x = np.arange(m * n, dtype=np.int32).reshape(m, n)\n",
    "print(x.shape, np.array(x.strides) / 4, x.size)\n",
    "print(x)"
   ]
  },
  {
   "cell_type": "code",
   "execution_count": 16,
   "metadata": {},
   "outputs": [
    {
     "data": {
      "text/plain": [
       "array([ 0,  1,  2,  3,  4,  5,  6,  7,  8,  9, 10, 11, 12, 13, 14, 15, 16,\n",
       "       17, 18, 19, 20, 21, 22, 23, 24])"
      ]
     },
     "execution_count": 16,
     "metadata": {},
     "output_type": "execute_result"
    }
   ],
   "source": [
    "get_np_underlying_memory(x)"
   ]
  },
  {
   "cell_type": "code",
   "execution_count": null,
   "metadata": {},
   "outputs": [],
   "source": []
  },
  {
   "cell_type": "code",
   "execution_count": 17,
   "metadata": {},
   "outputs": [
    {
     "name": "stdout",
     "output_type": "stream",
     "text": [
      "(3, 3, 3, 3) [5. 1. 5. 1.] 81\n"
     ]
    }
   ],
   "source": [
    "x1 = np.lib.stride_tricks.as_strided(\n",
    "    x, \n",
    "    shape=(m - k + 1, n - k + 1, k, k),\n",
    "    strides=np.array((n, 1, n, 1)) * 4\n",
    ")\n",
    "print(x1.shape, np.array(x1.strides) / 4, x1.size)"
   ]
  },
  {
   "cell_type": "code",
   "execution_count": 18,
   "metadata": {},
   "outputs": [
    {
     "data": {
      "text/plain": [
       "array([          0,           1,           2,           3,           4,\n",
       "                 5,           6,           7,           8,           9,\n",
       "                10,          11,          12,          13,          14,\n",
       "                15,          16,          17,          18,          19,\n",
       "                20,          21,          22,          23,          24,\n",
       "         929182050, -1499276895, -1878803968,  1055110768,         754,\n",
       "        1055110752,         754,  1055111488,         754,  1055111472,\n",
       "               754,  1056441856,         754,  1056441840,         754,\n",
       "        1056449776,         754,  1056449760,         754,  1056445696,\n",
       "               754,  1056445680,         754,  1056695040,         754,\n",
       "        1056695024,         754,           0,           0, -1498687064,\n",
       "       -1878803712,  -171990272,       32765,  -131123856,       32765,\n",
       "        1093899008,         754,  1093898992,         754,  1919972974,\n",
       "         980643177,  1970435130,       25454,          14,           0,\n",
       "                15,           0,  1093874176,         754, -1740225762,\n",
       "             32766,           0,           0,          15,           0,\n",
       "                 0])"
      ]
     },
     "execution_count": 18,
     "metadata": {},
     "output_type": "execute_result"
    }
   ],
   "source": [
    "get_np_underlying_memory(x1)  # accesses unallocated memory because array is not contiguous and has wrong size"
   ]
  },
  {
   "cell_type": "code",
   "execution_count": null,
   "metadata": {},
   "outputs": [],
   "source": []
  },
  {
   "cell_type": "code",
   "execution_count": 19,
   "metadata": {},
   "outputs": [
    {
     "name": "stdout",
     "output_type": "stream",
     "text": [
      "(3, 3, 3, 3) [27.  9.  3.  1.] 81\n"
     ]
    }
   ],
   "source": [
    "x2 = np.ascontiguousarray(x1)\n",
    "print(x2.shape, np.array(x2.strides) / 4, x2.size)"
   ]
  },
  {
   "cell_type": "code",
   "execution_count": 20,
   "metadata": {},
   "outputs": [
    {
     "data": {
      "text/plain": [
       "array([[[[ 0,  1,  2],\n",
       "         [ 5,  6,  7],\n",
       "         [10, 11, 12]],\n",
       "\n",
       "        [[ 1,  2,  3],\n",
       "         [ 6,  7,  8],\n",
       "         [11, 12, 13]],\n",
       "\n",
       "        [[ 2,  3,  4],\n",
       "         [ 7,  8,  9],\n",
       "         [12, 13, 14]]],\n",
       "\n",
       "\n",
       "       [[[ 5,  6,  7],\n",
       "         [10, 11, 12],\n",
       "         [15, 16, 17]],\n",
       "\n",
       "        [[ 6,  7,  8],\n",
       "         [11, 12, 13],\n",
       "         [16, 17, 18]],\n",
       "\n",
       "        [[ 7,  8,  9],\n",
       "         [12, 13, 14],\n",
       "         [17, 18, 19]]],\n",
       "\n",
       "\n",
       "       [[[10, 11, 12],\n",
       "         [15, 16, 17],\n",
       "         [20, 21, 22]],\n",
       "\n",
       "        [[11, 12, 13],\n",
       "         [16, 17, 18],\n",
       "         [21, 22, 23]],\n",
       "\n",
       "        [[12, 13, 14],\n",
       "         [17, 18, 19],\n",
       "         [22, 23, 24]]]])"
      ]
     },
     "execution_count": 20,
     "metadata": {},
     "output_type": "execute_result"
    }
   ],
   "source": [
    "x2"
   ]
  },
  {
   "cell_type": "code",
   "execution_count": 21,
   "metadata": {},
   "outputs": [
    {
     "data": {
      "text/plain": [
       "array([ 0,  1,  2,  5,  6,  7, 10, 11, 12,  1,  2,  3,  6,  7,  8, 11, 12,\n",
       "       13,  2,  3,  4,  7,  8,  9, 12, 13, 14,  5,  6,  7, 10, 11, 12, 15,\n",
       "       16, 17,  6,  7,  8, 11, 12, 13, 16, 17, 18,  7,  8,  9, 12, 13, 14,\n",
       "       17, 18, 19, 10, 11, 12, 15, 16, 17, 20, 21, 22, 11, 12, 13, 16, 17,\n",
       "       18, 21, 22, 23, 12, 13, 14, 17, 18, 19, 22, 23, 24])"
      ]
     },
     "execution_count": 21,
     "metadata": {},
     "output_type": "execute_result"
    }
   ],
   "source": [
    "get_np_underlying_memory(x2)"
   ]
  },
  {
   "cell_type": "code",
   "execution_count": null,
   "metadata": {},
   "outputs": [],
   "source": []
  },
  {
   "cell_type": "code",
   "execution_count": 22,
   "metadata": {},
   "outputs": [
    {
     "name": "stdout",
     "output_type": "stream",
     "text": [
      "(9, 9) [9. 1.] 81\n"
     ]
    }
   ],
   "source": [
    "x3 = x2.reshape(((m - k + 1) * (n - k + 1), k * k))\n",
    "print(x3.shape, np.array(x3.strides) / 4, x3.size)"
   ]
  },
  {
   "cell_type": "code",
   "execution_count": 23,
   "metadata": {},
   "outputs": [
    {
     "data": {
      "text/plain": [
       "array([[ 0,  1,  2,  5,  6,  7, 10, 11, 12],\n",
       "       [ 1,  2,  3,  6,  7,  8, 11, 12, 13],\n",
       "       [ 2,  3,  4,  7,  8,  9, 12, 13, 14],\n",
       "       [ 5,  6,  7, 10, 11, 12, 15, 16, 17],\n",
       "       [ 6,  7,  8, 11, 12, 13, 16, 17, 18],\n",
       "       [ 7,  8,  9, 12, 13, 14, 17, 18, 19],\n",
       "       [10, 11, 12, 15, 16, 17, 20, 21, 22],\n",
       "       [11, 12, 13, 16, 17, 18, 21, 22, 23],\n",
       "       [12, 13, 14, 17, 18, 19, 22, 23, 24]])"
      ]
     },
     "execution_count": 23,
     "metadata": {},
     "output_type": "execute_result"
    }
   ],
   "source": [
    "x3"
   ]
  },
  {
   "cell_type": "code",
   "execution_count": null,
   "metadata": {},
   "outputs": [],
   "source": []
  },
  {
   "cell_type": "markdown",
   "metadata": {},
   "source": [
    "* in numpy, we can skip explicit `ascontiguousarray()` call as numpy will perform it implicitly during `reshape()`"
   ]
  },
  {
   "cell_type": "code",
   "execution_count": 24,
   "metadata": {},
   "outputs": [
    {
     "name": "stdout",
     "output_type": "stream",
     "text": [
      "(9, 9) [9. 1.] 81\n"
     ]
    }
   ],
   "source": [
    "x3_2 = x1.reshape(((m - k + 1) * (n - k + 1), k * k))\n",
    "print(x3_2.shape, np.array(x3_2.strides) / 4, x3_2.size)"
   ]
  },
  {
   "cell_type": "code",
   "execution_count": 25,
   "metadata": {},
   "outputs": [
    {
     "data": {
      "text/plain": [
       "array([[ 0,  1,  2,  5,  6,  7, 10, 11, 12],\n",
       "       [ 1,  2,  3,  6,  7,  8, 11, 12, 13],\n",
       "       [ 2,  3,  4,  7,  8,  9, 12, 13, 14],\n",
       "       [ 5,  6,  7, 10, 11, 12, 15, 16, 17],\n",
       "       [ 6,  7,  8, 11, 12, 13, 16, 17, 18],\n",
       "       [ 7,  8,  9, 12, 13, 14, 17, 18, 19],\n",
       "       [10, 11, 12, 15, 16, 17, 20, 21, 22],\n",
       "       [11, 12, 13, 16, 17, 18, 21, 22, 23],\n",
       "       [12, 13, 14, 17, 18, 19, 22, 23, 24]])"
      ]
     },
     "execution_count": 25,
     "metadata": {},
     "output_type": "execute_result"
    }
   ],
   "source": [
    "x3_2"
   ]
  },
  {
   "cell_type": "code",
   "execution_count": null,
   "metadata": {},
   "outputs": [],
   "source": []
  },
  {
   "cell_type": "markdown",
   "metadata": {},
   "source": [
    "### refactor im2col to be a function"
   ]
  },
  {
   "cell_type": "code",
   "execution_count": 26,
   "metadata": {},
   "outputs": [],
   "source": [
    "def im2col_2d(arr, m, n, k):\n",
    "    out1 = np.lib.stride_tricks.as_strided(\n",
    "        arr, \n",
    "        shape=(m - k + 1, n - k + 1, k, k),\n",
    "        strides=np.array((n, 1, n, 1)) * 4\n",
    "    )\n",
    "    # numpy makes array contiguous in memory before reshape if needed (like in this case)\n",
    "    out2 = out1.reshape(((m - k + 1) * (n - k + 1), k * k))\n",
    "    return out2"
   ]
  },
  {
   "cell_type": "code",
   "execution_count": 27,
   "metadata": {},
   "outputs": [
    {
     "data": {
      "text/plain": [
       "array([[ 0,  1,  2,  3,  4],\n",
       "       [ 5,  6,  7,  8,  9],\n",
       "       [10, 11, 12, 13, 14],\n",
       "       [15, 16, 17, 18, 19],\n",
       "       [20, 21, 22, 23, 24]])"
      ]
     },
     "execution_count": 27,
     "metadata": {},
     "output_type": "execute_result"
    }
   ],
   "source": [
    "x"
   ]
  },
  {
   "cell_type": "code",
   "execution_count": 28,
   "metadata": {},
   "outputs": [
    {
     "data": {
      "text/plain": [
       "array([[ 0,  1,  2,  5,  6,  7, 10, 11, 12],\n",
       "       [ 1,  2,  3,  6,  7,  8, 11, 12, 13],\n",
       "       [ 2,  3,  4,  7,  8,  9, 12, 13, 14],\n",
       "       [ 5,  6,  7, 10, 11, 12, 15, 16, 17],\n",
       "       [ 6,  7,  8, 11, 12, 13, 16, 17, 18],\n",
       "       [ 7,  8,  9, 12, 13, 14, 17, 18, 19],\n",
       "       [10, 11, 12, 15, 16, 17, 20, 21, 22],\n",
       "       [11, 12, 13, 16, 17, 18, 21, 22, 23],\n",
       "       [12, 13, 14, 17, 18, 19, 22, 23, 24]])"
      ]
     },
     "execution_count": 28,
     "metadata": {},
     "output_type": "execute_result"
    }
   ],
   "source": [
    "im2col_2d(x, 5, 5, 3)"
   ]
  },
  {
   "cell_type": "code",
   "execution_count": null,
   "metadata": {},
   "outputs": [],
   "source": []
  },
  {
   "cell_type": "code",
   "execution_count": 29,
   "metadata": {},
   "outputs": [],
   "source": [
    "def im2col_2d_torch(arr: torch.Tensor, m, n, k):\n",
    "    out1 = arr.as_strided(\n",
    "        size=(m - k + 1, n - k + 1, k, k),\n",
    "        stride=(n, 1, n, 1)\n",
    "    )\n",
    "    # pytorch will fail if we try to change shape with .view() on non-contiguous array.\n",
    "    # we can use either .contiguous().view() or .reshape()\n",
    "    out2 = out1.contiguous().view(((m - k + 1) * (n - k + 1), k * k))\n",
    "    return out2"
   ]
  },
  {
   "cell_type": "code",
   "execution_count": 30,
   "metadata": {},
   "outputs": [
    {
     "name": "stdout",
     "output_type": "stream",
     "text": [
      "torch.Size([5, 5]) (5, 1)\n"
     ]
    }
   ],
   "source": [
    "x_t = torch.Tensor(x)\n",
    "print(x_t.size(), x_t.stride())"
   ]
  },
  {
   "cell_type": "code",
   "execution_count": 31,
   "metadata": {},
   "outputs": [
    {
     "data": {
      "text/plain": [
       "tensor([[ 0.,  1.,  2.,  5.,  6.,  7., 10., 11., 12.],\n",
       "        [ 1.,  2.,  3.,  6.,  7.,  8., 11., 12., 13.],\n",
       "        [ 2.,  3.,  4.,  7.,  8.,  9., 12., 13., 14.],\n",
       "        [ 5.,  6.,  7., 10., 11., 12., 15., 16., 17.],\n",
       "        [ 6.,  7.,  8., 11., 12., 13., 16., 17., 18.],\n",
       "        [ 7.,  8.,  9., 12., 13., 14., 17., 18., 19.],\n",
       "        [10., 11., 12., 15., 16., 17., 20., 21., 22.],\n",
       "        [11., 12., 13., 16., 17., 18., 21., 22., 23.],\n",
       "        [12., 13., 14., 17., 18., 19., 22., 23., 24.]])"
      ]
     },
     "execution_count": 31,
     "metadata": {},
     "output_type": "execute_result"
    }
   ],
   "source": [
    "im2col_2d_torch(x_t, m, n, k)"
   ]
  },
  {
   "cell_type": "code",
   "execution_count": null,
   "metadata": {},
   "outputs": [],
   "source": []
  },
  {
   "cell_type": "markdown",
   "metadata": {},
   "source": [
    "### Convolution"
   ]
  },
  {
   "cell_type": "code",
   "execution_count": 32,
   "metadata": {},
   "outputs": [
    {
     "data": {
      "text/plain": [
       "array([[0, 1, 2],\n",
       "       [3, 4, 5],\n",
       "       [6, 7, 8]])"
      ]
     },
     "execution_count": 32,
     "metadata": {},
     "output_type": "execute_result"
    }
   ],
   "source": [
    "w = np.arange(k * k).reshape(k, k)\n",
    "w"
   ]
  },
  {
   "cell_type": "code",
   "execution_count": 33,
   "metadata": {},
   "outputs": [
    {
     "data": {
      "text/plain": [
       "array([[312, 348, 384],\n",
       "       [492, 528, 564],\n",
       "       [672, 708, 744]])"
      ]
     },
     "execution_count": 33,
     "metadata": {},
     "output_type": "execute_result"
    }
   ],
   "source": [
    "(im2col_2d(x, m, n, k) @ w.reshape(k * k)).reshape(m - k + 1, n - k + 1)"
   ]
  },
  {
   "cell_type": "code",
   "execution_count": null,
   "metadata": {},
   "outputs": [],
   "source": []
  },
  {
   "cell_type": "markdown",
   "metadata": {},
   "source": [
    "## im2col convolution. Multi-channel case"
   ]
  },
  {
   "cell_type": "code",
   "execution_count": 34,
   "metadata": {},
   "outputs": [],
   "source": [
    "def im2col(arr: np.ndarray, K):\n",
    "    B, H, W, Cin = arr.shape\n",
    "    Bs, Hs, Ws, Cs = arr.strides\n",
    "\n",
    "    out = np.lib.stride_tricks.as_strided(\n",
    "        arr, \n",
    "        shape=(B, H - K + 1, W - K + 1, K, K, Cin),\n",
    "        strides=(Bs, Hs, Ws, Hs, Ws, Cs)\n",
    "    )\n",
    "    # numpy makes array contiguous in memory before reshape if needed - like in this case.\n",
    "    # here we not only change the shape, but also duplicate needed values of input tensor.\n",
    "    # thus, underlying data copy is required.\n",
    "    out = out.reshape(-1, K * K * Cin)\n",
    "    \n",
    "    return out"
   ]
  },
  {
   "cell_type": "code",
   "execution_count": 35,
   "metadata": {},
   "outputs": [],
   "source": [
    "def conv_im2col(Z, weight):\n",
    "    N, H, W, C_in = Z.shape\n",
    "    K, _, _, C_out = weight.shape\n",
    "    assert K % 2 == 1\n",
    "\n",
    "    Z_im2col = im2col(Z, K)\n",
    "    out = Z_im2col @ weight.reshape(-1, C_out)\n",
    "    out = out.reshape(N, H - K + 1, W - K + 1, C_out)\n",
    "\n",
    "    return out"
   ]
  },
  {
   "cell_type": "code",
   "execution_count": 36,
   "metadata": {},
   "outputs": [
    {
     "name": "stdout",
     "output_type": "stream",
     "text": [
      "(10, 30, 30, 16)\n"
     ]
    }
   ],
   "source": [
    "out_im2col = conv_im2col(Z, weight)\n",
    "print(out_im2col.shape)"
   ]
  },
  {
   "cell_type": "code",
   "execution_count": 37,
   "metadata": {},
   "outputs": [
    {
     "data": {
      "text/plain": [
       "8.896161051565601e-13"
      ]
     },
     "execution_count": 37,
     "metadata": {},
     "output_type": "execute_result"
    }
   ],
   "source": [
    "np.linalg.norm(out_ref - out_im2col)"
   ]
  },
  {
   "cell_type": "code",
   "execution_count": 38,
   "metadata": {},
   "outputs": [
    {
     "name": "stdout",
     "output_type": "stream",
     "text": [
      "4.32 ms ± 123 µs per loop (mean ± std. dev. of 7 runs, 100 loops each)\n"
     ]
    }
   ],
   "source": [
    "%%timeit\n",
    "conv_im2col(Z, weight)"
   ]
  },
  {
   "cell_type": "code",
   "execution_count": null,
   "metadata": {},
   "outputs": [],
   "source": []
  },
  {
   "cell_type": "code",
   "execution_count": null,
   "metadata": {},
   "outputs": [],
   "source": []
  }
 ],
 "metadata": {
  "kernelspec": {
   "display_name": "Python 3.9.12 ('base')",
   "language": "python",
   "name": "python3"
  },
  "language_info": {
   "codemirror_mode": {
    "name": "ipython",
    "version": 3
   },
   "file_extension": ".py",
   "mimetype": "text/x-python",
   "name": "python",
   "nbconvert_exporter": "python",
   "pygments_lexer": "ipython3",
   "version": "3.9.12"
  },
  "orig_nbformat": 4,
  "vscode": {
   "interpreter": {
    "hash": "b5a2567531b7dbdea35435379f634b3a484c33a5ff3433b81ad0d9ac5b5840bb"
   }
  }
 },
 "nbformat": 4,
 "nbformat_minor": 2
}
